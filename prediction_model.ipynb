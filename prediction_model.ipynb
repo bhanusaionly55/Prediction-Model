{
 "cells": [
  {
   "cell_type": "markdown",
   "id": "1279b175-26dc-473d-adef-c71104470640",
   "metadata": {},
   "source": [
    "<font size=\"+3\"><strong>Hello Guys!</strong></font><br><font size=\"+2.5\"><strong>Welcom to My Jupyter Lab</strong></font><br>\n",
    "## Go through my PREDICTION MODEL for \"Housing in Buenos Aires\""
   ]
  },
  {
   "cell_type": "markdown",
   "id": "6dd4da8e-83da-487f-9cd0-73abd7e85585",
   "metadata": {},
   "source": [
    "# Step 1: Import the Essential Packages"
   ]
  },
  {
   "cell_type": "code",
   "execution_count": 16,
   "id": "4b9533c3-6468-49ea-98e5-f9a4f8d50df2",
   "metadata": {},
   "outputs": [],
   "source": [
    "import warnings\n",
    "from glob import glob\n",
    "import pandas as pd\n",
    "import seaborn as sns\n",
    "from category_encoders import OneHotEncoder\n",
    "from ipywidgets import Dropdown, FloatSlider, IntSlider, interact\n",
    "from sklearn.impute import SimpleImputer\n",
    "from sklearn.linear_model import LinearRegression, Ridge  # noqa F401\n",
    "from sklearn.metrics import mean_absolute_error\n",
    "from sklearn.pipeline import make_pipeline\n",
    "from sklearn.utils.validation import check_is_fitted\n",
    "\n",
    "warnings.simplefilter(action=\"ignore\", category=FutureWarning)"
   ]
  },
  {
   "cell_type": "markdown",
   "id": "94d165b7-4472-40d4-8bbd-cd974e1af367",
   "metadata": {},
   "source": [
    "# Step 2: Preparing Data\n",
    "## We are creating a function,\n",
    "Because it will be helpful when we are uploading multiple datasets.\n",
    "## Data Wrangling with certain Requirements.\n",
    "## Requirements:\n",
    "1. Property should be in Capital Federal.\n",
    "2. Property should be an Apartment.\n",
    "3. Property Price should be less than \"400000\".\n",
    "4. Remove the Outliers\n",
    "5. Split \"lat-lon\" column int lat & lon.\n",
    "6. Drop Nan values.\n",
    "7. Remove Duplicate columns."
   ]
  },
  {
   "cell_type": "code",
   "execution_count": 17,
   "id": "29b9f659-ce41-4607-a2c6-11f0546b8502",
   "metadata": {},
   "outputs": [],
   "source": [
    "def wrangle(filepath):\n",
    "    # Read CSV file\n",
    "    df = pd.read_csv(filepath)\n",
    "\n",
    "    # Subset data: Apartments in \"Capital Federal\", less than 400,000\n",
    "    mask_ba = df[\"place_with_parent_names\"].str.contains(\"Capital Federal\")\n",
    "    mask_apt = df[\"property_type\"] == \"apartment\"\n",
    "    mask_price = df[\"price_aprox_usd\"] < 400_000\n",
    "    df = df[mask_ba & mask_apt & mask_price]\n",
    "\n",
    "    # Subset data: Remove outliers for \"surface_covered_in_m2\"\n",
    "    low, high = df[\"surface_covered_in_m2\"].quantile([0.1, 0.9])\n",
    "    mask_area = df[\"surface_covered_in_m2\"].between(low, high)\n",
    "    df = df[mask_area]\n",
    "\n",
    "    # Split \"lat-lon\" column\n",
    "    df[[\"lat\", \"lon\"]] = df[\"lat-lon\"].str.split(\",\", expand=True).astype(float)\n",
    "    df.drop(columns=\"lat-lon\", inplace=True)\n",
    "\n",
    "    # Get place name\n",
    "    df[\"neighborhood\"] = df[\"place_with_parent_names\"].str.split(\"|\", expand=True)[3]\n",
    "    df.drop(columns=\"place_with_parent_names\", inplace=True)\n",
    "    df.drop(columns=[\"floor\",\"expenses\"] , inplace=True)\n",
    "    df.drop(columns=[\"operation\",\"property_type\",\"currency\",\"properati_url\"] , inplace=True)\n",
    "    df.drop(columns=[\n",
    "        'price',\n",
    "        'price_aprox_local_currency',\n",
    "        'price_per_m2',\n",
    "        'price_usd_per_m2',\n",
    "        \n",
    "    ],inplace=True)\n",
    "    df.drop(columns=[\"surface_total_in_m2\",\"rooms\"],inplace=True)\n",
    "        \n",
    "    return df"
   ]
  },
  {
   "cell_type": "markdown",
   "id": "1fa00358-e584-4980-94c6-abc40b0e3fe3",
   "metadata": {},
   "source": [
    "# Step 3: Collecting Data"
   ]
  },
  {
   "cell_type": "code",
   "execution_count": null,
   "id": "87419f84-c330-4a06-832c-0ddab21f7b31",
   "metadata": {},
   "outputs": [],
   "source": [
    "files = glob(\"Desktop/Data science/buenos-aires-real-estate-*.csv\")\n",
    "files"
   ]
  },
  {
   "cell_type": "markdown",
   "id": "eeff255f-a97e-47f2-9822-9fd611ea2688",
   "metadata": {},
   "source": [
    "# Step 4: Uploading Data"
   ]
  },
  {
   "cell_type": "code",
   "execution_count": 19,
   "id": "2c080fe3-518d-4ac8-a43f-30f054bf33f2",
   "metadata": {},
   "outputs": [],
   "source": [
    "frames = []\n",
    "for file in files:\n",
    "    df = wrangle(file)\n",
    "    frames.append(df)"
   ]
  },
  {
   "cell_type": "markdown",
   "id": "e42a3cdb-09f1-4568-82c5-a607d1338aeb",
   "metadata": {},
   "source": [
    "# Step 5: Concatenating Datasets"
   ]
  },
  {
   "cell_type": "code",
   "execution_count": null,
   "id": "99765dbf-7ba8-4a6f-aad0-0eaf3dcf4248",
   "metadata": {},
   "outputs": [],
   "source": [
    "df = pd.concat(frames)\n",
    "print(df.info())\n",
    "df.head()"
   ]
  },
  {
   "cell_type": "markdown",
   "id": "ff3db3d9-847d-49a4-be8a-db9c66e7ef78",
   "metadata": {},
   "source": [
    "# Step 6: Plot a Heat map for visualisation."
   ]
  },
  {
   "cell_type": "code",
   "execution_count": null,
   "id": "3613ac30-501c-48e3-abf6-8ec78f3478c5",
   "metadata": {},
   "outputs": [],
   "source": [
    "corr = df.select_dtypes(\"number\").drop(columns=\"price_aprox_usd\").corr()\n",
    "sns.heatmap(corr)"
   ]
  },
  {
   "cell_type": "markdown",
   "id": "031e55cc-530b-4db3-98b7-bfa417b953e6",
   "metadata": {},
   "source": [
    "# Step 7: Training data."
   ]
  },
  {
   "cell_type": "code",
   "execution_count": 22,
   "id": "3bf15d13-0d0f-43ab-a37c-ecef84a29b39",
   "metadata": {},
   "outputs": [],
   "source": [
    "target = \"price_aprox_usd\"\n",
    "feature = [\"surface_covered_in_m2\",\"lat\",\"lon\",\"neighborhood\"]\n",
    "y_train = df[target]\n",
    "X_train = df[feature]"
   ]
  },
  {
   "cell_type": "markdown",
   "id": "d23b7236-730e-4898-9583-d5c14420e44e",
   "metadata": {},
   "source": [
    "# Step 8: Calculating the baseline mean absolute error for our model."
   ]
  },
  {
   "cell_type": "code",
   "execution_count": null,
   "id": "5c567267-67c0-486d-b27d-e920917fc238",
   "metadata": {},
   "outputs": [],
   "source": [
    "y_mean = y_train.mean()\n",
    "y_pred_baseline = [y_mean] * len(y_train)\n",
    "print(\"Mean apt price:\", round(y_mean,2))\n",
    "mae = mean_absolute_error(y_train, y_pred_baseline)\n",
    "print(\"Baseline MAE:\", mae )"
   ]
  },
  {
   "cell_type": "markdown",
   "id": "b7cb92cc-bb0d-4f59-9ecf-0aa23266d69b",
   "metadata": {},
   "source": [
    "# Step 9: Creating a pipeline that contains a OneHotEncoder, SimpleImputer, and Ridge predictor."
   ]
  },
  {
   "cell_type": "code",
   "execution_count": null,
   "id": "9311921e-55fa-4179-b1a3-ccfcc0f5cbb2",
   "metadata": {},
   "outputs": [],
   "source": [
    "model = make_pipeline(\n",
    "    OneHotEncoder(use_cat_names=True),\n",
    "    SimpleImputer(),\n",
    "    Ridge()\n",
    ")\n",
    "model.fit(X_train,y_train)"
   ]
  },
  {
   "cell_type": "markdown",
   "id": "8e19bdfb-ca5f-4c22-ab15-ee39e42a483c",
   "metadata": {},
   "source": [
    "# Step 10: Calculating the training mean absolute error."
   ]
  },
  {
   "cell_type": "code",
   "execution_count": null,
   "id": "df92a419-90eb-483c-8884-45dcf2e05cdd",
   "metadata": {},
   "outputs": [],
   "source": [
    "y_pred_training = model.predict(X_train)\n",
    "print(\"Training MAE:\", mean_absolute_error(y_train, y_pred_training))"
   ]
  },
  {
   "cell_type": "markdown",
   "id": "76880034-b075-4129-bc7f-1724a19a8371",
   "metadata": {},
   "source": [
    "# Step 11: Create a function Make Prediction."
   ]
  },
  {
   "cell_type": "code",
   "execution_count": 26,
   "id": "192e0ea0-2420-4605-9274-618694e32e9c",
   "metadata": {},
   "outputs": [],
   "source": [
    "def make_prediction(area, lat, lon, neighborhood):\n",
    "    data = {\n",
    "        \"surface_covered_in_m2\" : area,\n",
    "        \"lat\" : lat,\n",
    "        \"lon\" : lon,\n",
    "        \"neighborhood\" : neighborhood\n",
    "    }\n",
    "    df = pd.DataFrame(data,index=[0])\n",
    "    prediction = model.predict(df).round(2)[0]\n",
    "    return f\"Predicted apartment price: ${prediction}\""
   ]
  },
  {
   "cell_type": "markdown",
   "id": "766eb8da-d80f-4c5b-8306-dceeab8dfa4c",
   "metadata": {},
   "source": [
    "# Step 12: Example prediction."
   ]
  },
  {
   "cell_type": "code",
   "execution_count": null,
   "id": "ee6a14ea-7dec-49d7-8e5b-2c2c01a6de65",
   "metadata": {},
   "outputs": [],
   "source": [
    "make_prediction(110, -34.60, -58.46, \"Villa Crespo\")"
   ]
  },
  {
   "cell_type": "markdown",
   "id": "69cd7c8d-1846-4b9c-bcf6-cb0fc0992bcc",
   "metadata": {},
   "source": [
    "# Step 13: Creacting and interactive widget for better user interaction."
   ]
  },
  {
   "cell_type": "code",
   "execution_count": 28,
   "id": "1e12bd96-7e77-43d7-8764-83b38ce07bc7",
   "metadata": {},
   "outputs": [
    {
     "data": {
      "application/vnd.jupyter.widget-view+json": {
       "model_id": "9b9cefb5d99f4e519583457da03a2f78",
       "version_major": 2,
       "version_minor": 0
      },
      "text/plain": [
       "interactive(children=(IntSlider(value=53, description='area', min=30), FloatSlider(value=-34.599066860101324, …"
      ]
     },
     "metadata": {},
     "output_type": "display_data"
    }
   ],
   "source": [
    "interact(\n",
    "    make_prediction,\n",
    "    area=IntSlider(\n",
    "        min=X_train[\"surface_covered_in_m2\"].min(),\n",
    "        max=X_train[\"surface_covered_in_m2\"].max(),\n",
    "        value=X_train[\"surface_covered_in_m2\"].mean(),\n",
    "    ),\n",
    "    lat=FloatSlider(\n",
    "        min=X_train[\"lat\"].min(),\n",
    "        max=X_train[\"lat\"].max(),\n",
    "        step=0.01,\n",
    "        value=X_train[\"lat\"].mean(),\n",
    "    ),\n",
    "    lon=FloatSlider(\n",
    "        min=X_train[\"lon\"].min(),\n",
    "        max=X_train[\"lon\"].max(),\n",
    "        step=0.01,\n",
    "        value=X_train[\"lon\"].mean(),\n",
    "    ),\n",
    "    neighborhood=Dropdown(options=sorted(X_train[\"neighborhood\"].unique())),\n",
    ");"
   ]
  }
 ],
 "metadata": {
  "kernelspec": {
   "display_name": "Python 3 (ipykernel)",
   "language": "python",
   "name": "python3"
  },
  "language_info": {
   "codemirror_mode": {
    "name": "ipython",
    "version": 3
   },
   "file_extension": ".py",
   "mimetype": "text/x-python",
   "name": "python",
   "nbconvert_exporter": "python",
   "pygments_lexer": "ipython3",
   "version": "3.12.3"
  }
 },
 "nbformat": 4,
 "nbformat_minor": 5
}
